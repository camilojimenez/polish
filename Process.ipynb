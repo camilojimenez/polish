{
 "cells": [
  {
   "cell_type": "markdown",
   "id": "a95ad06a",
   "metadata": {},
   "source": [
    "# pair paragraphs"
   ]
  },
  {
   "cell_type": "code",
   "execution_count": 26,
   "id": "58afeead",
   "metadata": {},
   "outputs": [],
   "source": [
    "is_pl = True\n",
    "par = {}\n",
    "pars = []\n",
    "for line in open('text'):\n",
    "    k = 'pl' if is_pl else 'en'\n",
    "    par[k] = par.get(k, [])\n",
    "    if line == '\\n':\n",
    "        par[k] = \" \".join(par[k])\n",
    "        \n",
    "        if not is_pl:\n",
    "            # the pars go: pl, en, pl, en\n",
    "            pars.append(par)\n",
    "            par = {}\n",
    "            \n",
    "        is_pl = not is_pl\n",
    "        continue\n",
    "    par[k].append(line.strip())\n",
    "    \n",
    "import json\n",
    "\n",
    "with open('pars', 'w') as f:\n",
    "    for par in pars:\n",
    "        f.write(json.dumps(par))"
   ]
  },
  {
   "cell_type": "code",
   "execution_count": null,
   "id": "320b11a1",
   "metadata": {},
   "outputs": [],
   "source": []
  },
  {
   "cell_type": "code",
   "execution_count": null,
   "id": "c7b4802f",
   "metadata": {},
   "outputs": [],
   "source": []
  }
 ],
 "metadata": {
  "kernelspec": {
   "display_name": "Python 3 (ipykernel)",
   "language": "python",
   "name": "python3"
  },
  "language_info": {
   "codemirror_mode": {
    "name": "ipython",
    "version": 3
   },
   "file_extension": ".py",
   "mimetype": "text/x-python",
   "name": "python",
   "nbconvert_exporter": "python",
   "pygments_lexer": "ipython3",
   "version": "3.9.9"
  }
 },
 "nbformat": 4,
 "nbformat_minor": 5
}
