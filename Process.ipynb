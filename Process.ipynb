{
 "cells": [
  {
   "cell_type": "markdown",
   "id": "a2a39304",
   "metadata": {},
   "source": [
    "# pair paragraphs"
   ]
  },
  {
   "cell_type": "code",
   "execution_count": 263,
   "id": "e5fee79a",
   "metadata": {},
   "outputs": [],
   "source": [
    "is_pl = True\n",
    "par = {}\n",
    "pars = []\n",
    "for line in open('text'):\n",
    "    k = 'pl' if is_pl else 'en'\n",
    "    par[k] = par.get(k, [])\n",
    "    if line == '\\n':\n",
    "        par[k] = \" \".join(par[k])\n",
    "        \n",
    "        if not is_pl:\n",
    "            # the pars go: pl, en, pl, en\n",
    "            pars.append(par)\n",
    "            par = {}\n",
    "            \n",
    "        is_pl = not is_pl\n",
    "        continue\n",
    "    par[k].append(line.strip())\n",
    "    \n",
    "import json\n",
    "\n",
    "with open('pars', 'w') as f:\n",
    "    for par in pars:\n",
    "        f.write(json.dumps(par).replace('…','...'))\n",
    "        f.write('\\n')"
   ]
  },
  {
   "cell_type": "markdown",
   "id": "2aa22df9",
   "metadata": {},
   "source": [
    "# pair sentences"
   ]
  },
  {
   "cell_type": "code",
   "execution_count": 265,
   "id": "9f0f3c36",
   "metadata": {},
   "outputs": [],
   "source": [
    "def fix(x):\n",
    "    return x.replace('…', '.').replace('Mrs.', 'Mrs').replace('Mr.', 'Mr')\n",
    "\n",
    "def fix2(x):\n",
    "    return [i for i in x if i]\n",
    "\n",
    "a = 0\n",
    "with open('sen', 'w') as f:\n",
    "    b = 0\n",
    "    for par in open('pars'):\n",
    "        b = b + 1\n",
    "        par = json.loads(fix(par))\n",
    "        en = fix2(par['en'].split('.'))\n",
    "        pl = fix2(par['pl'].split('.'))\n",
    "        \n",
    "        if len(pl) != len(en):\n",
    "            a = a + 1\n",
    "            print('------')\n",
    "            [print(i) for i in pl]\n",
    "            print('---')\n",
    "            [print(i) for i in en]\n",
    "            break\n",
    "        \n",
    "        d = {\n",
    "            'en': en,\n",
    "            'pl'\n",
    "        }\n",
    "        f.write()\n"
   ]
  },
  {
   "cell_type": "code",
   "execution_count": 262,
   "id": "61722325",
   "metadata": {},
   "outputs": [
    {
     "data": {
      "text/plain": [
       "1"
      ]
     },
     "execution_count": 262,
     "metadata": {},
     "output_type": "execute_result"
    }
   ],
   "source": [
    "a"
   ]
  },
  {
   "cell_type": "code",
   "execution_count": 251,
   "id": "d3e56993",
   "metadata": {},
   "outputs": [
    {
     "data": {
      "text/plain": [
       "['Agnes couldn’t believe it',\n",
       " ' It was like a dream come true',\n",
       " ' Since that day, her idol was her best friend',\n",
       " ' Agnes was at every concert of his and spent time with him',\n",
       " ' She always had a place backstage']"
      ]
     },
     "execution_count": 251,
     "metadata": {},
     "output_type": "execute_result"
    }
   ],
   "source": [
    "en"
   ]
  },
  {
   "cell_type": "code",
   "execution_count": null,
   "id": "94ea88e6",
   "metadata": {},
   "outputs": [],
   "source": []
  },
  {
   "cell_type": "code",
   "execution_count": null,
   "id": "15c1956b",
   "metadata": {},
   "outputs": [],
   "source": []
  }
 ],
 "metadata": {
  "kernelspec": {
   "display_name": "Python 3 (ipykernel)",
   "language": "python",
   "name": "python3"
  },
  "language_info": {
   "codemirror_mode": {
    "name": "ipython",
    "version": 3
   },
   "file_extension": ".py",
   "mimetype": "text/x-python",
   "name": "python",
   "nbconvert_exporter": "python",
   "pygments_lexer": "ipython3",
   "version": "3.9.9"
  }
 },
 "nbformat": 4,
 "nbformat_minor": 5
}
